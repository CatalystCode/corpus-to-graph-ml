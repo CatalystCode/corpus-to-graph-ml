{
 "cells": [
  {
   "cell_type": "code",
   "execution_count": 1,
   "metadata": {
    "collapsed": false,
    "scrolled": true
   },
   "outputs": [
    {
     "name": "stdout",
     "output_type": "stream",
     "text": [
      "producing inputs for binary case...\n",
      "before data split\n",
      "splitted data\n",
      "running step:entities\n",
      "running step:trim\n",
      "running step:normalize\n",
      "running step:rmdigits\n",
      "Finished producing files, took:0:00:17.593000\n"
     ]
    }
   ],
   "source": [
    "import sys\n",
    "sys.path.append(\"./packages\")\n",
    "\n",
    "import data_preparation_tools as dpt\n",
    "reload(dpt)\n",
    "import datetime\n",
    "from datetime import date\n",
    "\n",
    "# an optional optimization:\n",
    "# import preprocessed text with entitity recognition data\n",
    "# in order to prevent the server from going to GNAT each time\n",
    "# the input files are in format of tab seperated files with the first\n",
    "# column containing the sentence and the remaining columns containing \n",
    "# the recognized entities\n",
    "texts_with_entities_file_paths = []\n",
    "\n",
    "for p in texts_with_entities_file_paths:\n",
    "    dpt.import_to_texts_entities_dictonary_from_file(p)\n",
    "today = date.today()\n",
    "prefix = \"%s_%s_%s\"%(today.month,today.day,today.year)\n",
    "\n",
    "# fill out these paths\n",
    "\n",
    "output_dir = r\"\"\n",
    "positive_samples_path = r\"\"\n",
    "negative_samples_path = r\"\"\n",
    "\n",
    "start_time = datetime.datetime.now()\n",
    "\n",
    "# this pipeline will produce files with all possible outputs\n",
    "dpt.run_data_preparation_pipeline(positive_samples_path,negative_samples_path, prefix, output_dir, run_multiclass=False)\n",
    "\n",
    "run_time = datetime.datetime.now() - start_time\n",
    "print \"Finished producing files, took:%s\"%run_time"
   ]
  }
 ],
 "metadata": {
  "kernelspec": {
   "display_name": "Python 2",
   "language": "python",
   "name": "python2"
  },
  "language_info": {
   "codemirror_mode": {
    "name": "ipython",
    "version": 2
   },
   "file_extension": ".py",
   "mimetype": "text/x-python",
   "name": "python",
   "nbconvert_exporter": "python",
   "pygments_lexer": "ipython2",
   "version": "2.7.11"
  }
 },
 "nbformat": 4,
 "nbformat_minor": 0
}
